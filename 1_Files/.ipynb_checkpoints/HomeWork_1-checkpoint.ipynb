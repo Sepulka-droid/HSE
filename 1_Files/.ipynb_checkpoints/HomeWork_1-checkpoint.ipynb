{
 "cells": [
  {
   "cell_type": "markdown",
   "id": "f24e3dc1-9452-490e-b782-e69e7f05f263",
   "metadata": {},
   "source": [
    "# Домашнее задание № 1  \n",
    "Дисциплина - Python для инженерии данных  \n",
    "Тема 1. Работа с файлами и пакетами"
   ]
  },
  {
   "cell_type": "markdown",
   "id": "01470c1d-8c26-4022-b91b-7cf7e75ca7bf",
   "metadata": {},
   "source": [
    "### Задание 1 \n",
    "Переведите содержимое файла `purchase_log.txt` в словарь `purchases` вида:  \n",
    "`{'1840e0b9d4': 'Продукты', ...}`"
   ]
  },
  {
   "cell_type": "markdown",
   "id": "d179b7b9-6375-414b-950f-63331b0c2601",
   "metadata": {},
   "source": [
    "Способ 1. Ручная обработка файла"
   ]
  },
  {
   "cell_type": "code",
   "execution_count": 26,
   "id": "ef76475a-d9c6-4d3c-bebc-5cb9f826809f",
   "metadata": {},
   "outputs": [
    {
     "name": "stdout",
     "output_type": "stream",
     "text": [
      "1840e0b9d4 Продукты\n",
      "4e4f90fcfb Электроника\n",
      "afea8d72fc Электроника\n",
      "373a6055fe Бытовая техника\n",
      "9b2ab046f3 Электроника\n",
      "9f39d307c3 Электроника\n",
      "44edeffc91 Продукты\n",
      "704474fa2d Продукты\n",
      "1de31be403 Бытовая техника\n",
      "b71f36a5e4 Продукты\n",
      "79843a685a Продукты\n",
      "ff68cee0d6 Бытовая техника\n"
     ]
    }
   ],
   "source": [
    "def line_to_dict(line):\n",
    "    user_id, category = line.strip().split(', ')\n",
    "    # есть строка, где user_id и category перепутаны\n",
    "    if 'user_id' not in user_id:\n",
    "        user_id, category = category, user_id\n",
    "    user_id = user_id.split(\": \")[1].strip('\"{}')\n",
    "    category = category.split(\": \")[1].strip('\"{}')\n",
    "    return user_id, category\n",
    "\n",
    "\n",
    "purchases = dict()\n",
    "with open(\"purchase_log.txt\", encoding='utf-8') as file:\n",
    "    # не считываем первую строку, так как это строка заголовков\n",
    "    for line in file.readlines()[1:]:\n",
    "        user_id, category = line_to_dict(line)\n",
    "        purchases[user_id] = category\n",
    "\n",
    "\n",
    "# печать первых 10 записей\n",
    "for i, key in enumerate(purchases.keys()):\n",
    "    print(key, purchases[key])\n",
    "    if i > 10:\n",
    "        break"
   ]
  },
  {
   "cell_type": "markdown",
   "id": "016e7ddd-fa7f-4daa-8e59-0f65774256cd",
   "metadata": {},
   "source": [
    "Способ 2. Использование библиотеки json"
   ]
  },
  {
   "cell_type": "code",
   "execution_count": 29,
   "id": "6637b2b8-b0a2-4dae-84b8-f6d01249303c",
   "metadata": {},
   "outputs": [
    {
     "name": "stdout",
     "output_type": "stream",
     "text": [
      "1840e0b9d4 Продукты\n",
      "4e4f90fcfb Электроника\n",
      "afea8d72fc Электроника\n",
      "373a6055fe Бытовая техника\n",
      "9b2ab046f3 Электроника\n",
      "9f39d307c3 Электроника\n",
      "44edeffc91 Продукты\n",
      "704474fa2d Продукты\n",
      "1de31be403 Бытовая техника\n",
      "b71f36a5e4 Продукты\n",
      "79843a685a Продукты\n",
      "ff68cee0d6 Бытовая техника\n"
     ]
    }
   ],
   "source": [
    "import json\n",
    "\n",
    "purchases = dict()\n",
    "with open(\"purchase_log.txt\", encoding='utf-8') as file:\n",
    "    for line in file.readlines()[1:]:\n",
    "        data = json.loads(line)\n",
    "        purchases[data['user_id']] = data['category']\n",
    "\n",
    "# печать первых 10 записей\n",
    "for i, key in enumerate(purchases.keys()):\n",
    "    print(key, purchases[key])\n",
    "    if i > 10:\n",
    "        break"
   ]
  },
  {
   "cell_type": "markdown",
   "id": "c8a4a167-d7d3-472b-b4a1-587f0effdae1",
   "metadata": {},
   "source": [
    "### Задание 2\n",
    "Для каждого `user_id` в файле `visit_log.csv` определите третий столбец с категорией покупки. Если покупка была, сам файл `visit_log.csv` изменять не надо.\n",
    "Запишите в файл `funnel.csv` визиты из файла `visit_log.csv`, в которых были покупки с указанием категории.  \n",
    "Учтите условия для данных:  \n",
    "●\tсодержимое `purchase_log.txt` помещается в оперативную память компьютера;  \n",
    "●\tсодержимое `visit_log.csv` — нет, используйте только построчную обработку этого файла."
   ]
  },
  {
   "cell_type": "code",
   "execution_count": null,
   "id": "b1000d59-3e2c-430a-89d4-9d7df0ba59da",
   "metadata": {},
   "outputs": [],
   "source": []
  }
 ],
 "metadata": {
  "kernelspec": {
   "display_name": "Python 3 (ipykernel)",
   "language": "python",
   "name": "python3"
  },
  "language_info": {
   "codemirror_mode": {
    "name": "ipython",
    "version": 3
   },
   "file_extension": ".py",
   "mimetype": "text/x-python",
   "name": "python",
   "nbconvert_exporter": "python",
   "pygments_lexer": "ipython3",
   "version": "3.12.6"
  }
 },
 "nbformat": 4,
 "nbformat_minor": 5
}
