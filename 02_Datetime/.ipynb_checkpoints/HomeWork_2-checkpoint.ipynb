{
 "cells": [
  {
   "cell_type": "markdown",
   "id": "344b9f6d-8e7c-4cb5-84a5-98cbbedfc215",
   "metadata": {},
   "source": [
    "# Домашнее задание № 1  \n",
    "Дисциплина - Python для инженерии данных  \n",
    "Тема 2. Время и даты в Python"
   ]
  },
  {
   "cell_type": "markdown",
   "id": "4a50faa1-0165-4a43-845c-e97092fa468d",
   "metadata": {},
   "source": [
    "### Задание 1  \n",
    "Печатные газеты использовали свой формат дат для каждого выпуска. Для каждой газеты из списка напишите формат указанной даты для перевода в объект datetime:  \n",
    "    - The Moscow Times - Wednesday, October 2, 2002  \n",
    "    - The Guardian - Friday, 11.10.13  \n",
    "    - Daily News - Thursday, 18 August 1977"
   ]
  },
  {
   "cell_type": "code",
   "execution_count": 5,
   "id": "163d6d39-db9e-42a9-bca6-f2ecafffd614",
   "metadata": {},
   "outputs": [
    {
     "name": "stdout",
     "output_type": "stream",
     "text": [
      "2002-10-02 00:00:00\n",
      "2013-10-11 00:00:00\n",
      "1977-08-18 00:00:00\n"
     ]
    }
   ],
   "source": [
    "from datetime import datetime\n",
    "\n",
    "# поскольку у каждой газеты свой формат, создадим словарь, который указывает тип записи даты у каждой\n",
    "lines = {\"The Moscow Times - Wednesday, October 2, 2002\": \"%A, %B %d, %Y\", \n",
    "         \"The Guardian - Friday, 11.10.13\": \"%A, %d.%m.%y\", \n",
    "         \"Daily News - Thursday, 18 August 1977\": \"%A, %d %B %Y\"}\n",
    "\n",
    "# тогда переделывание в datetime будет очень простым\n",
    "for line, formatting in lines.items():\n",
    "    date = line.split(\" - \")[1]\n",
    "    print(datetime.strptime(date, formatting))"
   ]
  },
  {
   "cell_type": "markdown",
   "id": "ad460e4d-a9d6-45d1-99bd-64863bcffba8",
   "metadata": {},
   "source": [
    "### Задание 2\n",
    "Напишите функцию `date_range`, которая возвращает список дат за период от `start_date` до `end_date`. Даты должны вводиться в формате `YYYY-MM-DD`.  \n",
    "В случае неверного формата или при `start_date` > `end_date` должен возвращаться пустой список."
   ]
  },
  {
   "cell_type": "code",
   "execution_count": 15,
   "id": "3c0fa95d-a8fb-4bd6-a558-8336f5e405dd",
   "metadata": {},
   "outputs": [],
   "source": [
    "from datetime import datetime, timedelta\n",
    "\n",
    "def date_range(start_date, end_date):\n",
    "    # перевод дат в нужный формат\n",
    "    try:\n",
    "        start_date = datetime.strptime(start_date, \"%Y-%m-%d\")\n",
    "        end_date = datetime.strptime(end_date, \"%Y-%m-%d\")\n",
    "    except ValueError:\n",
    "        return []        \n",
    "\n",
    "    # Стартовая дата позже конечной\n",
    "    if start_date > end_date:\n",
    "        return []\n",
    "        \n",
    "    # сбор ответа\n",
    "    dates = []\n",
    "    while start_date <= end_date:\n",
    "        dates.append(start_date.strftime(\"%Y-%m-%d\"))\n",
    "        start_date += timedelta(days=1)\n",
    "    return dates"
   ]
  },
  {
   "cell_type": "markdown",
   "id": "9f9036d5-70ac-4223-a33f-be5225c99221",
   "metadata": {},
   "source": [
    "Примеры использования"
   ]
  },
  {
   "cell_type": "code",
   "execution_count": 13,
   "id": "931d4ae2-7784-426c-8873-a5bf596a8fcc",
   "metadata": {},
   "outputs": [
    {
     "data": {
      "text/plain": [
       "['2022-01-01', '2022-01-02', '2022-01-03']"
      ]
     },
     "execution_count": 13,
     "metadata": {},
     "output_type": "execute_result"
    }
   ],
   "source": [
    "date_range(\"2022-01-01\", \"2022-01-03\")"
   ]
  },
  {
   "cell_type": "code",
   "execution_count": 14,
   "id": "349cf24a-d140-4218-b659-94bac80214b3",
   "metadata": {},
   "outputs": [
    {
     "data": {
      "text/plain": [
       "[]"
      ]
     },
     "execution_count": 14,
     "metadata": {},
     "output_type": "execute_result"
    }
   ],
   "source": [
    "date_range(\"2022-01-03\", \"2022-01-01\")"
   ]
  },
  {
   "cell_type": "code",
   "execution_count": 16,
   "id": "51260718-f686-4ff5-82c7-fd1ec6a05b0a",
   "metadata": {},
   "outputs": [
    {
     "data": {
      "text/plain": [
       "[]"
      ]
     },
     "execution_count": 16,
     "metadata": {},
     "output_type": "execute_result"
    }
   ],
   "source": [
    "date_range(\"2022-02-30\", \"2022-02-31\")"
   ]
  }
 ],
 "metadata": {
  "kernelspec": {
   "display_name": "Python 3 (ipykernel)",
   "language": "python",
   "name": "python3"
  },
  "language_info": {
   "codemirror_mode": {
    "name": "ipython",
    "version": 3
   },
   "file_extension": ".py",
   "mimetype": "text/x-python",
   "name": "python",
   "nbconvert_exporter": "python",
   "pygments_lexer": "ipython3",
   "version": "3.12.6"
  }
 },
 "nbformat": 4,
 "nbformat_minor": 5
}
